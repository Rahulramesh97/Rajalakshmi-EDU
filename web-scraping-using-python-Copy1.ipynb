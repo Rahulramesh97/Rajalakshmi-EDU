{
 "cells": [
  {
   "cell_type": "markdown",
   "id": "212c5f77",
   "metadata": {
    "papermill": {
     "duration": 0.014965,
     "end_time": "2022-01-22T14:04:17.054014",
     "exception": false,
     "start_time": "2022-01-22T14:04:17.039049",
     "status": "completed"
    },
    "tags": []
   },
   "source": []
  },
  {
   "cell_type": "markdown",
   "id": "16168f09",
   "metadata": {
    "papermill": {
     "duration": 0.013525,
     "end_time": "2022-01-22T14:04:17.083733",
     "exception": false,
     "start_time": "2022-01-22T14:04:17.070208",
     "status": "completed"
    },
    "tags": []
   },
   "source": [
    "**Introduction**\n",
    "\n",
    "Hello all this is web scrapping code written using python in jupyter notebook. \n",
    "\n",
    "**What is Web scrapping?**\n",
    "\n",
    "It is the automated procedure of extracting the large amount of data from websites. \n",
    "The data available on the websites which is unstructured can be converted to structured data using Web Scrapping.\n",
    "\n",
    "There are different ways to scrape websites such as Online Services, APIs or writing your own code.\n",
    "\n",
    "**Purpose**\n",
    "\n",
    "The main purpose behind this was to automate the data collecting process and also to be aware about the sudden price changes through email.\n",
    "\n",
    "One another cool use of it is to be notified instantly of some products which donot stay in stock for a long time such as PS5."
   ]
  },
  {
   "cell_type": "markdown",
   "id": "b19e060b",
   "metadata": {
    "papermill": {
     "duration": 0.013396,
     "end_time": "2022-01-22T14:04:17.110939",
     "exception": false,
     "start_time": "2022-01-22T14:04:17.097543",
     "status": "completed"
    },
    "tags": []
   },
   "source": [
    "**Motivation and future plan**\n",
    "\n",
    "Initially I wanted to do the following project on PS5 but it is not available online atleast not on Amazon India. So main goal was to constantly keep checking availability of PS5 and the moment it gets available order it but since there is no product item named PS5 on amazon I had to go with ps4 disc, the basics remain the same with little tweak in code we would be able to use this as PS5 scrapper(if you can't beat them join them Xd!)\n"
   ]
  },
  {
   "cell_type": "code",
   "execution_count": 12,
   "id": "eba8404a",
   "metadata": {
    "execution": {
     "iopub.execute_input": "2022-01-22T14:04:17.143277Z",
     "iopub.status.busy": "2022-01-22T14:04:17.142069Z",
     "iopub.status.idle": "2022-01-22T14:04:17.465508Z",
     "shell.execute_reply": "2022-01-22T14:04:17.464755Z",
     "shell.execute_reply.started": "2022-01-22T14:02:59.298521Z"
    },
    "papermill": {
     "duration": 0.340858,
     "end_time": "2022-01-22T14:04:17.465683",
     "exception": false,
     "start_time": "2022-01-22T14:04:17.124825",
     "status": "completed"
    },
    "tags": []
   },
   "outputs": [],
   "source": [
    "# import libraries \n",
    "\n",
    "from bs4 import BeautifulSoup\n",
    "import requests\n",
    "import time\n",
    "import datetime\n",
    "\n",
    "import smtplib"
   ]
  },
  {
   "cell_type": "code",
   "execution_count": 13,
   "id": "85f8def4",
   "metadata": {
    "execution": {
     "iopub.execute_input": "2022-01-22T14:04:17.499731Z",
     "iopub.status.busy": "2022-01-22T14:04:17.498646Z",
     "iopub.status.idle": "2022-01-22T14:04:17.500978Z",
     "shell.execute_reply": "2022-01-22T14:04:17.501493Z",
     "shell.execute_reply.started": "2022-01-22T14:02:59.606709Z"
    },
    "papermill": {
     "duration": 0.02183,
     "end_time": "2022-01-22T14:04:17.501671",
     "exception": false,
     "start_time": "2022-01-22T14:04:17.479841",
     "status": "completed"
    },
    "tags": []
   },
   "outputs": [],
   "source": [
    "#connecting to a website\n",
    "\n",
    "url = 'https://www.amazon.in/PS4-God-of-War/dp/B07YQ73Y8T/ref=sr_1_2?keywords=ps4%2Bgame&qid=1642854585&sr=8-2'\n",
    "header = {\"User-Agent\": \"Mozilla/5.0 (Macintosh; Intel Mac OS X 10_15_7) AppleWebKit/537.36 (KHTML, like Gecko) Chrome/97.0.4692.99 Safari/537.36\"}"
   ]
  },
  {
   "cell_type": "markdown",
   "id": "11c6f6c1",
   "metadata": {
    "papermill": {
     "duration": 0.013511,
     "end_time": "2022-01-22T14:04:17.529093",
     "exception": false,
     "start_time": "2022-01-22T14:04:17.515582",
     "status": "completed"
    },
    "tags": []
   },
   "source": [
    "**Common error/problem faced**\n",
    "\n",
    "This is the part which took away a lot of my time, not something I expected because it seems pretty straightforward. Well the problem was according to the source which I was refering too they use div tags id to reference anything to get the data but if I tried to do the same it kept on throwing \"no attributes error\". However later I realized that I need to reference the span tags and class name. Maybe the reason could be that Amazon's site has been updated but very silly error to be stuck on."
   ]
  },
  {
   "cell_type": "code",
   "execution_count": 16,
   "id": "2038fd7b",
   "metadata": {
    "execution": {
     "iopub.execute_input": "2022-01-22T14:04:17.560902Z",
     "iopub.status.busy": "2022-01-22T14:04:17.559831Z",
     "iopub.status.idle": "2022-01-22T14:04:20.294032Z",
     "shell.execute_reply": "2022-01-22T14:04:20.294601Z",
     "shell.execute_reply.started": "2022-01-22T14:02:59.612664Z"
    },
    "papermill": {
     "duration": 2.751734,
     "end_time": "2022-01-22T14:04:20.294787",
     "exception": false,
     "start_time": "2022-01-22T14:04:17.543053",
     "status": "completed"
    },
    "tags": []
   },
   "outputs": [
    {
     "name": "stdout",
     "output_type": "stream",
     "text": [
      "\n",
      "             God of War | PS4 Game (PlayStation 4)\n",
      "            \n",
      "\n",
      "                              ₹899.00\n",
      "                             \n"
     ]
    }
   ],
   "source": [
    "#getting the data from the website\n",
    "page = requests.get(url, headers=header)\n",
    "\n",
    "s1 = BeautifulSoup(page.content,'html.parser')\n",
    "s2 = BeautifulSoup(s1.prettify(),'html.parser')\n",
    "\n",
    "title = s2.find('span','a-size-large product-title-word-break').get_text()\n",
    "print(title)\n",
    "price = s2.find('span', 'a-offscreen').get_text()\n",
    "print(price)"
   ]
  },
  {
   "cell_type": "code",
   "execution_count": 4,
   "id": "729bf2f7",
   "metadata": {
    "execution": {
     "iopub.execute_input": "2022-01-22T14:04:20.329970Z",
     "iopub.status.busy": "2022-01-22T14:04:20.329173Z",
     "iopub.status.idle": "2022-01-22T14:04:20.332498Z",
     "shell.execute_reply": "2022-01-22T14:04:20.333196Z",
     "shell.execute_reply.started": "2022-01-22T14:03:02.722359Z"
    },
    "papermill": {
     "duration": 0.024039,
     "end_time": "2022-01-22T14:04:20.333412",
     "exception": false,
     "start_time": "2022-01-22T14:04:20.309373",
     "status": "completed"
    },
    "tags": []
   },
   "outputs": [
    {
     "name": "stdout",
     "output_type": "stream",
     "text": [
      "God of War | PS4 Game (PlayStation 4) 899.00\n"
     ]
    }
   ],
   "source": [
    "#removing the rupee sign from the price\n",
    "\n",
    "price = price.strip()[1:]\n",
    "title = title.strip()\n",
    "\n",
    "print(title,price)"
   ]
  },
  {
   "cell_type": "code",
   "execution_count": 5,
   "id": "9c5387d3",
   "metadata": {
    "execution": {
     "iopub.execute_input": "2022-01-22T14:04:20.369572Z",
     "iopub.status.busy": "2022-01-22T14:04:20.368824Z",
     "iopub.status.idle": "2022-01-22T14:04:20.372827Z",
     "shell.execute_reply": "2022-01-22T14:04:20.372261Z",
     "shell.execute_reply.started": "2022-01-22T14:03:02.731465Z"
    },
    "papermill": {
     "duration": 0.023835,
     "end_time": "2022-01-22T14:04:20.372972",
     "exception": false,
     "start_time": "2022-01-22T14:04:20.349137",
     "status": "completed"
    },
    "tags": []
   },
   "outputs": [
    {
     "name": "stdout",
     "output_type": "stream",
     "text": [
      "2023-10-28\n"
     ]
    }
   ],
   "source": [
    "today = datetime.date.today()\n",
    "print(today)"
   ]
  },
  {
   "cell_type": "code",
   "execution_count": 6,
   "id": "e67f07d2",
   "metadata": {
    "execution": {
     "iopub.execute_input": "2022-01-22T14:04:20.409986Z",
     "iopub.status.busy": "2022-01-22T14:04:20.409017Z",
     "iopub.status.idle": "2022-01-22T14:04:20.411719Z",
     "shell.execute_reply": "2022-01-22T14:04:20.411199Z",
     "shell.execute_reply.started": "2022-01-22T14:03:02.742874Z"
    },
    "papermill": {
     "duration": 0.023909,
     "end_time": "2022-01-22T14:04:20.411873",
     "exception": false,
     "start_time": "2022-01-22T14:04:20.387964",
     "status": "completed"
    },
    "tags": []
   },
   "outputs": [],
   "source": [
    "#saving the data from the amazon website into a csv file\n",
    "import csv \n",
    "\n",
    "h1 = ['Title','Price','Date']\n",
    "data = [title,price,today]\n",
    "\n",
    "with open('Scrapper_file.csv','w',newline='',encoding='UTF8') as f:\n",
    "    writer = csv.writer(f)\n",
    "    writer.writerow(h1)\n",
    "    writer.writerow(data)"
   ]
  },
  {
   "cell_type": "code",
   "execution_count": 7,
   "id": "5d4f4322",
   "metadata": {
    "execution": {
     "iopub.execute_input": "2022-01-22T14:04:20.446062Z",
     "iopub.status.busy": "2022-01-22T14:04:20.445228Z",
     "iopub.status.idle": "2022-01-22T14:04:20.447946Z",
     "shell.execute_reply": "2022-01-22T14:04:20.447421Z",
     "shell.execute_reply.started": "2022-01-22T14:03:02.752303Z"
    },
    "papermill": {
     "duration": 0.02137,
     "end_time": "2022-01-22T14:04:20.448086",
     "exception": false,
     "start_time": "2022-01-22T14:04:20.426716",
     "status": "completed"
    },
    "tags": []
   },
   "outputs": [],
   "source": [
    "#import pandas\n",
    "\n",
    "#df = pd.read_csv('/Users/digi/Desktop/Data-Analytics/web-scrapper/Scrapper_file.csv')\n",
    "\n",
    "#df.head(10)"
   ]
  },
  {
   "cell_type": "code",
   "execution_count": 8,
   "id": "bd75af73",
   "metadata": {
    "execution": {
     "iopub.execute_input": "2022-01-22T14:04:20.483630Z",
     "iopub.status.busy": "2022-01-22T14:04:20.482917Z",
     "iopub.status.idle": "2022-01-22T14:04:20.485056Z",
     "shell.execute_reply": "2022-01-22T14:04:20.484378Z",
     "shell.execute_reply.started": "2022-01-22T14:03:02.767299Z"
    },
    "papermill": {
     "duration": 0.02221,
     "end_time": "2022-01-22T14:04:20.485197",
     "exception": false,
     "start_time": "2022-01-22T14:04:20.462987",
     "status": "completed"
    },
    "tags": []
   },
   "outputs": [],
   "source": [
    "#checking if the apending works\n",
    "\n",
    "with open('Scrapper_file.csv','a+',newline='',encoding='UTF8') as f:\n",
    "        writer = csv.writer(f)\n",
    "        writer.writerow(data)"
   ]
  },
  {
   "cell_type": "markdown",
   "id": "c35c9424",
   "metadata": {
    "papermill": {
     "duration": 0.014536,
     "end_time": "2022-01-22T14:04:20.514745",
     "exception": false,
     "start_time": "2022-01-22T14:04:20.500209",
     "status": "completed"
    },
    "tags": []
   },
   "source": [
    "**Automation**\n",
    "\n",
    "This function basically automates the entire process and keeps on updating the csv file on its on."
   ]
  },
  {
   "cell_type": "code",
   "execution_count": 9,
   "id": "eb781bcd",
   "metadata": {
    "execution": {
     "iopub.execute_input": "2022-01-22T14:04:20.554002Z",
     "iopub.status.busy": "2022-01-22T14:04:20.553150Z",
     "iopub.status.idle": "2022-01-22T14:04:20.555878Z",
     "shell.execute_reply": "2022-01-22T14:04:20.555323Z",
     "shell.execute_reply.started": "2022-01-22T14:03:02.777492Z"
    },
    "papermill": {
     "duration": 0.026479,
     "end_time": "2022-01-22T14:04:20.556025",
     "exception": false,
     "start_time": "2022-01-22T14:04:20.529546",
     "status": "completed"
    },
    "tags": []
   },
   "outputs": [],
   "source": [
    "#automating the process\n",
    "\n",
    "def automate():\n",
    "    url = 'https://www.amazon.in/PS4-God-of-War/dp/B07YQ73Y8T/ref=sr_1_2?keywords=ps4%2Bgame&qid=1642854585&sr=8-2'\n",
    "    header = {\"User-Agent\": \"Mozilla/5.0 (Macintosh; Intel Mac OS X 10_15_7) AppleWebKit/537.36 (KHTML, like Gecko) Chrome/97.0.4692.99 Safari/537.36\"}\n",
    "\n",
    "    page = requests.get(url, headers=header)\n",
    "\n",
    "    s1 = BeautifulSoup(page.content,'html.parser')\n",
    "    s2 = BeautifulSoup(s1.prettify(),'html.parser')\n",
    "\n",
    "    title = s2.find('span','a-size-large product-title-word-break').get_text()\n",
    "    price = s2.find('span', 'a-offscreen').get_text()\n",
    "    price = price.strip()[1:]\n",
    "    title = title.strip()\n",
    "    \n",
    "    import datetime\n",
    "    today = datetime.date.today()\n",
    "\n",
    "    import csv \n",
    "\n",
    "    h1 = ['Title','Price','Date']\n",
    "    data = [title,price,today]\n",
    "\n",
    "    with open('Scrapper_file.csv','a+',newline='',encoding='UTF8') as f:\n",
    "        writer = csv.writer(f)\n",
    "        writer.writerow(data)\n",
    "    #if (price < 900):\n",
    "     #   send_mail()\n",
    "\n",
    "\n",
    "\n",
    "    "
   ]
  },
  {
   "cell_type": "markdown",
   "id": "8b198938",
   "metadata": {
    "papermill": {
     "duration": 0.014492,
     "end_time": "2022-01-22T14:04:20.585633",
     "exception": false,
     "start_time": "2022-01-22T14:04:20.571141",
     "status": "completed"
    },
    "tags": []
   },
   "source": [
    "**Loop to keep the scrapper running**\n",
    "\n",
    "Here I have used just 1 second gap inorder to get the data and validate it fastly you can use any time interval but take note that the time is in seconds"
   ]
  },
  {
   "cell_type": "code",
   "execution_count": 10,
   "id": "376d7cd1",
   "metadata": {
    "execution": {
     "iopub.execute_input": "2022-01-22T14:04:20.618217Z",
     "iopub.status.busy": "2022-01-22T14:04:20.617560Z",
     "iopub.status.idle": "2022-01-22T14:04:20.620786Z",
     "shell.execute_reply": "2022-01-22T14:04:20.621316Z",
     "shell.execute_reply.started": "2022-01-22T14:03:38.799527Z"
    },
    "papermill": {
     "duration": 0.021109,
     "end_time": "2022-01-22T14:04:20.621519",
     "exception": false,
     "start_time": "2022-01-22T14:04:20.600410",
     "status": "completed"
    },
    "tags": []
   },
   "outputs": [],
   "source": [
    "#loop that keeps the process running after a defined interval\n",
    "#note here time.sleep() is in seconds\n",
    "#while(True):\n",
    "#    automate()\n",
    "#    time.sleep(1) #unit is seconds"
   ]
  },
  {
   "cell_type": "markdown",
   "id": "5cd49625",
   "metadata": {
    "papermill": {
     "duration": 0.014781,
     "end_time": "2022-01-22T14:04:20.651232",
     "exception": false,
     "start_time": "2022-01-22T14:04:20.636451",
     "status": "completed"
    },
    "tags": []
   },
   "source": [
    "**Function to send Mail to yourself**\n",
    "\n",
    "I tried to send mail to myself while doing the project and at first it doesn’t work because google won't allow unauthorised app to access your mail so for the first time you will have to allow it manually after that it seems to work fine."
   ]
  },
  {
   "cell_type": "code",
   "execution_count": 11,
   "id": "387cb31a",
   "metadata": {
    "execution": {
     "iopub.execute_input": "2022-01-22T14:04:20.685144Z",
     "iopub.status.busy": "2022-01-22T14:04:20.684515Z",
     "iopub.status.idle": "2022-01-22T14:04:20.689103Z",
     "shell.execute_reply": "2022-01-22T14:04:20.689750Z",
     "shell.execute_reply.started": "2022-01-22T14:03:38.028215Z"
    },
    "papermill": {
     "duration": 0.023176,
     "end_time": "2022-01-22T14:04:20.689939",
     "exception": false,
     "start_time": "2022-01-22T14:04:20.666763",
     "status": "completed"
    },
    "tags": []
   },
   "outputs": [],
   "source": [
    "#sending a mail if the product gets available or there is a price drop\n",
    "\n",
    "def send_mail():\n",
    "    server = smtplib.SMTP_SSL('smtp.gmail.com',465)\n",
    "    server.ehlo()\n",
    "    #server.starttls()\n",
    "    server.ehlo()\n",
    "    server.login('enter email','@@@@@')\n",
    "    \n",
    "    subject = \"Price Drop Alert!\"\n",
    "    body = \"God of War-PS4 just dropped in price might want to have a look\"\n",
    "   \n",
    "    msg = f\"Subject: {subject}\\n\\n{body}\"\n",
    "    \n",
    "    server.sendmail(\n",
    "        'enter email',\n",
    "        msg\n",
    "     \n",
    "    )"
   ]
  },
  {
   "cell_type": "markdown",
   "id": "1e94460b",
   "metadata": {
    "papermill": {
     "duration": 0.015156,
     "end_time": "2022-01-22T14:04:20.720079",
     "exception": false,
     "start_time": "2022-01-22T14:04:20.704923",
     "status": "completed"
    },
    "tags": []
   },
   "source": [
    "**Thank you for reading**"
   ]
  }
 ],
 "metadata": {
  "kernelspec": {
   "display_name": "Python 3 (ipykernel)",
   "language": "python",
   "name": "python3"
  },
  "language_info": {
   "codemirror_mode": {
    "name": "ipython",
    "version": 3
   },
   "file_extension": ".py",
   "mimetype": "text/x-python",
   "name": "python",
   "nbconvert_exporter": "python",
   "pygments_lexer": "ipython3",
   "version": "3.11.5"
  },
  "papermill": {
   "default_parameters": {},
   "duration": 14.294254,
   "end_time": "2022-01-22T14:04:21.345776",
   "environment_variables": {},
   "exception": null,
   "input_path": "__notebook__.ipynb",
   "output_path": "__notebook__.ipynb",
   "parameters": {},
   "start_time": "2022-01-22T14:04:07.051522",
   "version": "2.3.3"
  }
 },
 "nbformat": 4,
 "nbformat_minor": 5
}
