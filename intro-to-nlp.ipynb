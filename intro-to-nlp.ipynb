{
 "cells": [
  {
   "cell_type": "markdown",
   "metadata": {
    "papermill": {
     "duration": 0.011076,
     "end_time": "2021-11-09T00:09:42.906828",
     "exception": false,
     "start_time": "2021-11-09T00:09:42.895752",
     "status": "completed"
    },
    "tags": []
   },
   "source": [
    "# Intro\n",
    "\n",
    "Data comes in many different forms: time stamps, sensor readings, images, categorical labels, and so much more. But text is still some of the most valuable data out there for those who know how to use it.  \n",
    "\n",
    "In this course about **Natural Language Processing (NLP)**, you will use the leading NLP library (spaCy) to take on some of the most important tasks in working with text. \n",
    "\n",
    "By the end, you will be able to use spaCy for:\n",
    "\n",
    "* Basic text processing and pattern matching\n",
    "* Building machine learning models with text\n",
    "* Representing text with word embeddings that numerically capture the meaning of words and documents"
   ]
  },
  {
   "cell_type": "markdown",
   "metadata": {
    "papermill": {
     "duration": 0.009402,
     "end_time": "2021-11-09T00:09:42.926198",
     "exception": false,
     "start_time": "2021-11-09T00:09:42.916796",
     "status": "completed"
    },
    "tags": []
   },
   "source": [
    "To get the most out of this course, you'll need some experience with machine learning. If you don't have experience with scikit-learn, check out [Intro to Machine Learning](https://www.kaggle.com/learn/intro-to-machine-learning) and [Intermediate Machine Learning](https://www.kaggle.com/learn/intermediate-machine-learning) to learn the fundamentals."
   ]
  },
  {
   "cell_type": "markdown",
   "metadata": {
    "papermill": {
     "duration": 0.011501,
     "end_time": "2021-11-09T00:09:42.947892",
     "exception": false,
     "start_time": "2021-11-09T00:09:42.936391",
     "status": "completed"
    },
    "tags": []
   },
   "source": [
    "## NLP with spaCy\n",
    "\n",
    "spaCy is the leading library for NLP, and it has quickly become one of the most popular Python frameworks. Most people find it intuitive, and it has excellent [documentation](https://spacy.io/usage).\n",
    "\n",
    "spaCy relies on **models** that are language-specific and come in different sizes. You can load a spaCy model with `spacy.load`. \n",
    "\n",
    "For example, here's how you would load the English language model."
   ]
  },
  {
   "cell_type": "code",
   "execution_count": 1,
   "metadata": {
    "execution": {
     "iopub.execute_input": "2021-11-09T00:09:42.971922Z",
     "iopub.status.busy": "2021-11-09T00:09:42.970843Z",
     "iopub.status.idle": "2021-11-09T00:09:52.601391Z",
     "shell.execute_reply": "2021-11-09T00:09:52.600663Z"
    },
    "papermill": {
     "duration": 9.643931,
     "end_time": "2021-11-09T00:09:52.601567",
     "exception": false,
     "start_time": "2021-11-09T00:09:42.957636",
     "status": "completed"
    },
    "tags": []
   },
   "outputs": [],
   "source": [
    "import spacy\n",
    "nlp = spacy.load('en_core_web_sm')"
   ]
  },
  {
   "cell_type": "markdown",
   "metadata": {
    "papermill": {
     "duration": 0.009354,
     "end_time": "2021-11-09T00:09:52.621039",
     "exception": false,
     "start_time": "2021-11-09T00:09:52.611685",
     "status": "completed"
    },
    "tags": []
   },
   "source": [
    "With the model loaded, you can process text like this:"
   ]
  },
  {
   "cell_type": "code",
   "execution_count": 2,
   "metadata": {
    "execution": {
     "iopub.execute_input": "2021-11-09T00:09:52.644260Z",
     "iopub.status.busy": "2021-11-09T00:09:52.643343Z",
     "iopub.status.idle": "2021-11-09T00:09:52.665395Z",
     "shell.execute_reply": "2021-11-09T00:09:52.665893Z"
    },
    "papermill": {
     "duration": 0.03532,
     "end_time": "2021-11-09T00:09:52.666065",
     "exception": false,
     "start_time": "2021-11-09T00:09:52.630745",
     "status": "completed"
    },
    "tags": []
   },
   "outputs": [],
   "source": [
    "doc = nlp(\"Tea is healthy and calming, don't you think?\")"
   ]
  },
  {
   "cell_type": "markdown",
   "metadata": {
    "papermill": {
     "duration": 0.009631,
     "end_time": "2021-11-09T00:09:52.685559",
     "exception": false,
     "start_time": "2021-11-09T00:09:52.675928",
     "status": "completed"
    },
    "tags": []
   },
   "source": [
    "There's a lot you can do with the `doc` object you just created.\n",
    "\n",
    "# Tokenizing\n",
    "\n",
    "This returns a document object that contains **tokens**. A token is a unit of text in the document, such as individual words and punctuation. SpaCy splits contractions like \"don't\" into two tokens, \"do\" and \"n't\". You can see the tokens by iterating through the document."
   ]
  },
  {
   "cell_type": "code",
   "execution_count": 3,
   "metadata": {
    "execution": {
     "iopub.execute_input": "2021-11-09T00:09:52.710383Z",
     "iopub.status.busy": "2021-11-09T00:09:52.709508Z",
     "iopub.status.idle": "2021-11-09T00:09:52.713798Z",
     "shell.execute_reply": "2021-11-09T00:09:52.714284Z"
    },
    "papermill": {
     "duration": 0.019154,
     "end_time": "2021-11-09T00:09:52.714451",
     "exception": false,
     "start_time": "2021-11-09T00:09:52.695297",
     "status": "completed"
    },
    "tags": []
   },
   "outputs": [
    {
     "name": "stdout",
     "output_type": "stream",
     "text": [
      "Tea\n",
      "is\n",
      "healthy\n",
      "and\n",
      "calming\n",
      ",\n",
      "do\n",
      "n't\n",
      "you\n",
      "think\n",
      "?\n"
     ]
    }
   ],
   "source": [
    "for token in doc:\n",
    "    print(token)"
   ]
  },
  {
   "cell_type": "markdown",
   "metadata": {
    "papermill": {
     "duration": 0.00982,
     "end_time": "2021-11-09T00:09:52.735065",
     "exception": false,
     "start_time": "2021-11-09T00:09:52.725245",
     "status": "completed"
    },
    "tags": []
   },
   "source": [
    "Iterating through a document gives you token objects. Each of these tokens comes with additional information. In most cases, the important ones are `token.lemma_` and `token.is_stop`.\n",
    "\n",
    "# Text preprocessing\n",
    "\n",
    "There are a few types of preprocessing to improve how we model with words. The first is \"lemmatizing.\"\n",
    "The \"lemma\" of a word is its base form.  For example, \"walk\" is the lemma of the word \"walking\". So, when you lemmatize the word walking, you would convert it to walk.\n",
    "\n",
    "It's also common to remove stopwords. Stopwords are words that occur frequently in the language and don't contain much information. English  stopwords include \"the\", \"is\", \"and\", \"but\", \"not\". \n",
    "\n",
    "With a spaCy token, `token.lemma_` returns the lemma, while `token.is_stop` returns a boolean `True` if the token is a stopword (and `False` otherwise)."
   ]
  },
  {
   "cell_type": "code",
   "execution_count": 4,
   "metadata": {
    "execution": {
     "iopub.execute_input": "2021-11-09T00:09:52.759044Z",
     "iopub.status.busy": "2021-11-09T00:09:52.758090Z",
     "iopub.status.idle": "2021-11-09T00:09:52.765455Z",
     "shell.execute_reply": "2021-11-09T00:09:52.765958Z"
    },
    "papermill": {
     "duration": 0.02088,
     "end_time": "2021-11-09T00:09:52.766159",
     "exception": false,
     "start_time": "2021-11-09T00:09:52.745279",
     "status": "completed"
    },
    "tags": []
   },
   "outputs": [
    {
     "name": "stdout",
     "output_type": "stream",
     "text": [
      "Token \t\tLemma \t\tStopword\n",
      "----------------------------------------\n",
      "Tea\t\ttea\t\tFalse\n",
      "is\t\tbe\t\tTrue\n",
      "healthy\t\thealthy\t\tFalse\n",
      "and\t\tand\t\tTrue\n",
      "calming\t\tcalm\t\tFalse\n",
      ",\t\t,\t\tFalse\n",
      "do\t\tdo\t\tTrue\n",
      "n't\t\tn't\t\tTrue\n",
      "you\t\tyou\t\tTrue\n",
      "think\t\tthink\t\tFalse\n",
      "?\t\t?\t\tFalse\n"
     ]
    }
   ],
   "source": [
    "print(f\"Token \\t\\tLemma \\t\\tStopword\".format('Token', 'Lemma', 'Stopword'))\n",
    "print(\"-\"*40)\n",
    "for token in doc:\n",
    "    print(f\"{str(token)}\\t\\t{token.lemma_}\\t\\t{token.is_stop}\")"
   ]
  },
  {
   "cell_type": "markdown",
   "metadata": {
    "papermill": {
     "duration": 0.01076,
     "end_time": "2021-11-09T00:09:52.788078",
     "exception": false,
     "start_time": "2021-11-09T00:09:52.777318",
     "status": "completed"
    },
    "tags": []
   },
   "source": [
    "Why are lemmas and identifying stopwords important? Language data has a lot of noise mixed in with informative content. In the sentence above, the important words are tea, healthy and calming. Removing stop words might help the predictive model focus on relevant words. Lemmatizing similarly helps by combining multiple forms of the same word into one base form (\"calming\", \"calms\", \"calmed\" would all change to \"calm\").\n",
    "\n",
    "However, lemmatizing and dropping stopwords might result in your models performing worse. So you should treat this preprocessing as part of your hyperparameter optimization process."
   ]
  },
  {
   "cell_type": "markdown",
   "metadata": {
    "papermill": {
     "duration": 0.010404,
     "end_time": "2021-11-09T00:09:52.809595",
     "exception": false,
     "start_time": "2021-11-09T00:09:52.799191",
     "status": "completed"
    },
    "tags": []
   },
   "source": [
    "# Pattern Matching\n",
    "\n",
    "Another common NLP task is matching tokens or phrases within chunks of text or whole documents. You can do pattern matching with regular expressions, but spaCy's matching capabilities tend to be easier to use.\n",
    "\n",
    "To match individual tokens, you create a `Matcher`. When you want to match a list of terms, it's easier and more efficient to use `PhraseMatcher`. For example, if you want to find where different smartphone models show up in some text, you can create patterns for the model names of interest. First you create the `PhraseMatcher` itself."
   ]
  },
  {
   "cell_type": "code",
   "execution_count": 5,
   "metadata": {
    "execution": {
     "iopub.execute_input": "2021-11-09T00:09:52.834335Z",
     "iopub.status.busy": "2021-11-09T00:09:52.833532Z",
     "iopub.status.idle": "2021-11-09T00:09:52.837663Z",
     "shell.execute_reply": "2021-11-09T00:09:52.838251Z"
    },
    "papermill": {
     "duration": 0.018375,
     "end_time": "2021-11-09T00:09:52.838423",
     "exception": false,
     "start_time": "2021-11-09T00:09:52.820048",
     "status": "completed"
    },
    "tags": []
   },
   "outputs": [],
   "source": [
    "from spacy.matcher import PhraseMatcher\n",
    "matcher = PhraseMatcher(nlp.vocab, attr='LOWER')"
   ]
  },
  {
   "cell_type": "markdown",
   "metadata": {
    "papermill": {
     "duration": 0.010412,
     "end_time": "2021-11-09T00:09:52.859777",
     "exception": false,
     "start_time": "2021-11-09T00:09:52.849365",
     "status": "completed"
    },
    "tags": []
   },
   "source": [
    "The matcher is created using the vocabulary of your model. Here we're using the small English model you loaded earlier. Setting `attr='LOWER'` will match the phrases on lowercased text. This provides case insensitive matching.\n",
    "\n",
    "Next you create a list of terms to match in the text. The phrase matcher needs the patterns as document objects. The easiest way to get these is with a list comprehension using the `nlp` model."
   ]
  },
  {
   "cell_type": "code",
   "execution_count": 6,
   "metadata": {
    "execution": {
     "iopub.execute_input": "2021-11-09T00:09:52.886769Z",
     "iopub.status.busy": "2021-11-09T00:09:52.884204Z",
     "iopub.status.idle": "2021-11-09T00:09:52.912723Z",
     "shell.execute_reply": "2021-11-09T00:09:52.913243Z"
    },
    "papermill": {
     "duration": 0.042944,
     "end_time": "2021-11-09T00:09:52.913431",
     "exception": false,
     "start_time": "2021-11-09T00:09:52.870487",
     "status": "completed"
    },
    "tags": []
   },
   "outputs": [],
   "source": [
    "terms = ['Galaxy Note', 'iPhone 11', 'iPhone XS', 'Google Pixel']\n",
    "patterns = [nlp(text) for text in terms]\n",
    "matcher.add(\"TerminologyList\", patterns)"
   ]
  },
  {
   "cell_type": "markdown",
   "metadata": {
    "papermill": {
     "duration": 0.010715,
     "end_time": "2021-11-09T00:09:52.935645",
     "exception": false,
     "start_time": "2021-11-09T00:09:52.924930",
     "status": "completed"
    },
    "tags": []
   },
   "source": [
    "Then you create a document from the text to search and use the phrase matcher to find where the terms occur in the text."
   ]
  },
  {
   "cell_type": "code",
   "execution_count": 7,
   "metadata": {
    "execution": {
     "iopub.execute_input": "2021-11-09T00:09:52.960972Z",
     "iopub.status.busy": "2021-11-09T00:09:52.960344Z",
     "iopub.status.idle": "2021-11-09T00:09:52.979137Z",
     "shell.execute_reply": "2021-11-09T00:09:52.978589Z"
    },
    "papermill": {
     "duration": 0.032813,
     "end_time": "2021-11-09T00:09:52.979284",
     "exception": false,
     "start_time": "2021-11-09T00:09:52.946471",
     "status": "completed"
    },
    "tags": []
   },
   "outputs": [
    {
     "name": "stdout",
     "output_type": "stream",
     "text": [
      "[(3766102292120407359, 17, 19), (3766102292120407359, 22, 24), (3766102292120407359, 30, 32), (3766102292120407359, 33, 35)]\n"
     ]
    }
   ],
   "source": [
    "# Borrowed from https://daringfireball.net/linked/2019/09/21/patel-11-pro\n",
    "text_doc = nlp(\"Glowing review overall, and some really interesting side-by-side \"\n",
    "               \"photography tests pitting the iPhone 11 Pro against the \"\n",
    "               \"Galaxy Note 10 Plus and last year’s iPhone XS and Google Pixel 3.\") \n",
    "matches = matcher(text_doc)\n",
    "print(matches)"
   ]
  },
  {
   "cell_type": "markdown",
   "metadata": {
    "papermill": {
     "duration": 0.010947,
     "end_time": "2021-11-09T00:09:53.001651",
     "exception": false,
     "start_time": "2021-11-09T00:09:52.990704",
     "status": "completed"
    },
    "tags": []
   },
   "source": [
    "The matches here are a tuple of the match id and the positions of the start and end of the phrase."
   ]
  },
  {
   "cell_type": "code",
   "execution_count": 8,
   "metadata": {
    "execution": {
     "iopub.execute_input": "2021-11-09T00:09:53.032764Z",
     "iopub.status.busy": "2021-11-09T00:09:53.030337Z",
     "iopub.status.idle": "2021-11-09T00:09:53.036580Z",
     "shell.execute_reply": "2021-11-09T00:09:53.037188Z"
    },
    "papermill": {
     "duration": 0.023814,
     "end_time": "2021-11-09T00:09:53.037414",
     "exception": false,
     "start_time": "2021-11-09T00:09:53.013600",
     "status": "completed"
    },
    "tags": []
   },
   "outputs": [
    {
     "name": "stdout",
     "output_type": "stream",
     "text": [
      "TerminologyList iPhone 11\n"
     ]
    }
   ],
   "source": [
    "match_id, start, end = matches[0]\n",
    "print(nlp.vocab.strings[match_id], text_doc[start:end])"
   ]
  },
  {
   "cell_type": "markdown",
   "metadata": {
    "papermill": {
     "duration": 0.012098,
     "end_time": "2021-11-09T00:09:53.062405",
     "exception": false,
     "start_time": "2021-11-09T00:09:53.050307",
     "status": "completed"
    },
    "tags": []
   },
   "source": [
    "# Your Turn\n",
    "Now that you've seen a few uses of SpaCy for NLP, it's your turn to try it to **[analyze Yelp reviews](https://www.kaggle.com/kernels/fork/6061023)**."
   ]
  },
  {
   "cell_type": "markdown",
   "metadata": {
    "papermill": {
     "duration": 0.011269,
     "end_time": "2021-11-09T00:09:53.085315",
     "exception": false,
     "start_time": "2021-11-09T00:09:53.074046",
     "status": "completed"
    },
    "tags": []
   },
   "source": [
    "---\n",
    "\n",
    "\n",
    "\n",
    "\n",
    "*Have questions or comments? Visit the [course discussion forum](https://www.kaggle.com/learn/natural-language-processing/discussion) to chat with other learners.*"
   ]
  }
 ],
 "metadata": {
  "kernelspec": {
   "display_name": "Python 3",
   "language": "python",
   "name": "python3"
  },
  "language_info": {
   "codemirror_mode": {
    "name": "ipython",
    "version": 3
   },
   "file_extension": ".py",
   "mimetype": "text/x-python",
   "name": "python",
   "nbconvert_exporter": "python",
   "pygments_lexer": "ipython3",
   "version": "3.7.6"
  },
  "papermill": {
   "default_parameters": {},
   "duration": 21.51861,
   "end_time": "2021-11-09T00:09:56.161049",
   "environment_variables": {},
   "exception": null,
   "input_path": "__notebook__.ipynb",
   "output_path": "__notebook__.ipynb",
   "parameters": {},
   "start_time": "2021-11-09T00:09:34.642439",
   "version": "2.3.3"
  }
 },
 "nbformat": 4,
 "nbformat_minor": 5
}
