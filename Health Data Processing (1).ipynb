{
 "cells": [
  {
   "cell_type": "code",
   "execution_count": 1,
   "metadata": {},
   "outputs": [],
   "source": [
    "import numpy as np\n",
    "import pandas as pd"
   ]
  },
  {
   "cell_type": "code",
   "execution_count": 2,
   "metadata": {},
   "outputs": [],
   "source": [
    "df=pd.read_csv(\"Health_Data.csv\")"
   ]
  },
  {
   "cell_type": "code",
   "execution_count": 3,
   "metadata": {},
   "outputs": [],
   "source": [
    "# 30 day readmission: 30"
   ]
  },
  {
   "cell_type": "code",
   "execution_count": 4,
   "metadata": {},
   "outputs": [
    {
     "data": {
      "text/html": [
       "<div>\n",
       "<style scoped>\n",
       "    .dataframe tbody tr th:only-of-type {\n",
       "        vertical-align: middle;\n",
       "    }\n",
       "\n",
       "    .dataframe tbody tr th {\n",
       "        vertical-align: top;\n",
       "    }\n",
       "\n",
       "    .dataframe thead th {\n",
       "        text-align: right;\n",
       "    }\n",
       "</style>\n",
       "<table border=\"1\" class=\"dataframe\">\n",
       "  <thead>\n",
       "    <tr style=\"text-align: right;\">\n",
       "      <th></th>\n",
       "      <th>Patient_id</th>\n",
       "      <th>Age</th>\n",
       "      <th>Admission_type</th>\n",
       "      <th>PreExistingDisease</th>\n",
       "      <th>PreviousSurgery</th>\n",
       "      <th>Gender</th>\n",
       "      <th>Smoker</th>\n",
       "      <th>Homeless</th>\n",
       "      <th>DaysinHospital</th>\n",
       "      <th>Readmitted</th>\n",
       "    </tr>\n",
       "  </thead>\n",
       "  <tbody>\n",
       "    <tr>\n",
       "      <th>0</th>\n",
       "      <td>1</td>\n",
       "      <td>33</td>\n",
       "      <td>Urgent</td>\n",
       "      <td>Y</td>\n",
       "      <td>0</td>\n",
       "      <td>M</td>\n",
       "      <td>1</td>\n",
       "      <td>0</td>\n",
       "      <td>1</td>\n",
       "      <td>0</td>\n",
       "    </tr>\n",
       "    <tr>\n",
       "      <th>1</th>\n",
       "      <td>2</td>\n",
       "      <td>34</td>\n",
       "      <td>Emergency</td>\n",
       "      <td>N</td>\n",
       "      <td>0</td>\n",
       "      <td>M</td>\n",
       "      <td>1</td>\n",
       "      <td>0</td>\n",
       "      <td>22</td>\n",
       "      <td>0</td>\n",
       "    </tr>\n",
       "    <tr>\n",
       "      <th>2</th>\n",
       "      <td>3</td>\n",
       "      <td>88</td>\n",
       "      <td>Trauma</td>\n",
       "      <td>Y</td>\n",
       "      <td>1</td>\n",
       "      <td>M</td>\n",
       "      <td>1</td>\n",
       "      <td>1</td>\n",
       "      <td>100</td>\n",
       "      <td>1</td>\n",
       "    </tr>\n",
       "    <tr>\n",
       "      <th>3</th>\n",
       "      <td>4</td>\n",
       "      <td>56</td>\n",
       "      <td>Elective</td>\n",
       "      <td>Y</td>\n",
       "      <td>0</td>\n",
       "      <td>M</td>\n",
       "      <td>1</td>\n",
       "      <td>0</td>\n",
       "      <td>2</td>\n",
       "      <td>0</td>\n",
       "    </tr>\n",
       "    <tr>\n",
       "      <th>4</th>\n",
       "      <td>5</td>\n",
       "      <td>45</td>\n",
       "      <td>Trauma</td>\n",
       "      <td>Y</td>\n",
       "      <td>0</td>\n",
       "      <td>M</td>\n",
       "      <td>1</td>\n",
       "      <td>0</td>\n",
       "      <td>34</td>\n",
       "      <td>0</td>\n",
       "    </tr>\n",
       "  </tbody>\n",
       "</table>\n",
       "</div>"
      ],
      "text/plain": [
       "   Patient_id  Age Admission_type PreExistingDisease  PreviousSurgery Gender  \\\n",
       "0           1   33         Urgent                  Y                0      M   \n",
       "1           2   34      Emergency                  N                0      M   \n",
       "2           3   88         Trauma                  Y                1      M   \n",
       "3           4   56       Elective                  Y                0      M   \n",
       "4           5   45         Trauma                  Y                0      M   \n",
       "\n",
       "   Smoker  Homeless  DaysinHospital  Readmitted  \n",
       "0       1         0               1           0  \n",
       "1       1         0              22           0  \n",
       "2       1         1             100           1  \n",
       "3       1         0               2           0  \n",
       "4       1         0              34           0  "
      ]
     },
     "execution_count": 4,
     "metadata": {},
     "output_type": "execute_result"
    }
   ],
   "source": [
    "df.head()"
   ]
  },
  {
   "cell_type": "code",
   "execution_count": 5,
   "metadata": {},
   "outputs": [
    {
     "data": {
      "text/html": [
       "<div>\n",
       "<style scoped>\n",
       "    .dataframe tbody tr th:only-of-type {\n",
       "        vertical-align: middle;\n",
       "    }\n",
       "\n",
       "    .dataframe tbody tr th {\n",
       "        vertical-align: top;\n",
       "    }\n",
       "\n",
       "    .dataframe thead th {\n",
       "        text-align: right;\n",
       "    }\n",
       "</style>\n",
       "<table border=\"1\" class=\"dataframe\">\n",
       "  <thead>\n",
       "    <tr style=\"text-align: right;\">\n",
       "      <th></th>\n",
       "      <th>PreviousSurgery</th>\n",
       "      <th>Gender</th>\n",
       "    </tr>\n",
       "  </thead>\n",
       "  <tbody>\n",
       "    <tr>\n",
       "      <th>0</th>\n",
       "      <td>0</td>\n",
       "      <td>M</td>\n",
       "    </tr>\n",
       "    <tr>\n",
       "      <th>1</th>\n",
       "      <td>0</td>\n",
       "      <td>M</td>\n",
       "    </tr>\n",
       "    <tr>\n",
       "      <th>2</th>\n",
       "      <td>1</td>\n",
       "      <td>M</td>\n",
       "    </tr>\n",
       "  </tbody>\n",
       "</table>\n",
       "</div>"
      ],
      "text/plain": [
       "   PreviousSurgery Gender\n",
       "0                0      M\n",
       "1                0      M\n",
       "2                1      M"
      ]
     },
     "execution_count": 5,
     "metadata": {},
     "output_type": "execute_result"
    }
   ],
   "source": [
    "df.iloc[0:3,4:6]"
   ]
  },
  {
   "cell_type": "code",
   "execution_count": 6,
   "metadata": {},
   "outputs": [
    {
     "data": {
      "text/html": [
       "<div>\n",
       "<style scoped>\n",
       "    .dataframe tbody tr th:only-of-type {\n",
       "        vertical-align: middle;\n",
       "    }\n",
       "\n",
       "    .dataframe tbody tr th {\n",
       "        vertical-align: top;\n",
       "    }\n",
       "\n",
       "    .dataframe thead th {\n",
       "        text-align: right;\n",
       "    }\n",
       "</style>\n",
       "<table border=\"1\" class=\"dataframe\">\n",
       "  <thead>\n",
       "    <tr style=\"text-align: right;\">\n",
       "      <th></th>\n",
       "      <th>Patient_id</th>\n",
       "      <th>Age</th>\n",
       "      <th>PreviousSurgery</th>\n",
       "      <th>Smoker</th>\n",
       "      <th>Homeless</th>\n",
       "      <th>DaysinHospital</th>\n",
       "      <th>Readmitted</th>\n",
       "    </tr>\n",
       "  </thead>\n",
       "  <tbody>\n",
       "    <tr>\n",
       "      <th>count</th>\n",
       "      <td>357.00000</td>\n",
       "      <td>357.000000</td>\n",
       "      <td>357.000000</td>\n",
       "      <td>357.000000</td>\n",
       "      <td>357.000000</td>\n",
       "      <td>357.000000</td>\n",
       "      <td>357.000000</td>\n",
       "    </tr>\n",
       "    <tr>\n",
       "      <th>mean</th>\n",
       "      <td>179.00000</td>\n",
       "      <td>42.574230</td>\n",
       "      <td>0.341737</td>\n",
       "      <td>0.596639</td>\n",
       "      <td>0.378151</td>\n",
       "      <td>43.182073</td>\n",
       "      <td>0.193277</td>\n",
       "    </tr>\n",
       "    <tr>\n",
       "      <th>std</th>\n",
       "      <td>103.20126</td>\n",
       "      <td>29.274624</td>\n",
       "      <td>0.474957</td>\n",
       "      <td>0.491261</td>\n",
       "      <td>0.485606</td>\n",
       "      <td>47.362609</td>\n",
       "      <td>0.395423</td>\n",
       "    </tr>\n",
       "    <tr>\n",
       "      <th>min</th>\n",
       "      <td>1.00000</td>\n",
       "      <td>0.000000</td>\n",
       "      <td>0.000000</td>\n",
       "      <td>0.000000</td>\n",
       "      <td>0.000000</td>\n",
       "      <td>1.000000</td>\n",
       "      <td>0.000000</td>\n",
       "    </tr>\n",
       "    <tr>\n",
       "      <th>25%</th>\n",
       "      <td>90.00000</td>\n",
       "      <td>14.000000</td>\n",
       "      <td>0.000000</td>\n",
       "      <td>0.000000</td>\n",
       "      <td>0.000000</td>\n",
       "      <td>12.000000</td>\n",
       "      <td>0.000000</td>\n",
       "    </tr>\n",
       "    <tr>\n",
       "      <th>50%</th>\n",
       "      <td>179.00000</td>\n",
       "      <td>35.000000</td>\n",
       "      <td>0.000000</td>\n",
       "      <td>1.000000</td>\n",
       "      <td>0.000000</td>\n",
       "      <td>32.000000</td>\n",
       "      <td>0.000000</td>\n",
       "    </tr>\n",
       "    <tr>\n",
       "      <th>75%</th>\n",
       "      <td>268.00000</td>\n",
       "      <td>67.000000</td>\n",
       "      <td>1.000000</td>\n",
       "      <td>1.000000</td>\n",
       "      <td>1.000000</td>\n",
       "      <td>55.000000</td>\n",
       "      <td>0.000000</td>\n",
       "    </tr>\n",
       "    <tr>\n",
       "      <th>max</th>\n",
       "      <td>357.00000</td>\n",
       "      <td>96.000000</td>\n",
       "      <td>1.000000</td>\n",
       "      <td>1.000000</td>\n",
       "      <td>1.000000</td>\n",
       "      <td>352.000000</td>\n",
       "      <td>1.000000</td>\n",
       "    </tr>\n",
       "  </tbody>\n",
       "</table>\n",
       "</div>"
      ],
      "text/plain": [
       "       Patient_id         Age  PreviousSurgery      Smoker    Homeless  \\\n",
       "count   357.00000  357.000000       357.000000  357.000000  357.000000   \n",
       "mean    179.00000   42.574230         0.341737    0.596639    0.378151   \n",
       "std     103.20126   29.274624         0.474957    0.491261    0.485606   \n",
       "min       1.00000    0.000000         0.000000    0.000000    0.000000   \n",
       "25%      90.00000   14.000000         0.000000    0.000000    0.000000   \n",
       "50%     179.00000   35.000000         0.000000    1.000000    0.000000   \n",
       "75%     268.00000   67.000000         1.000000    1.000000    1.000000   \n",
       "max     357.00000   96.000000         1.000000    1.000000    1.000000   \n",
       "\n",
       "       DaysinHospital  Readmitted  \n",
       "count      357.000000  357.000000  \n",
       "mean        43.182073    0.193277  \n",
       "std         47.362609    0.395423  \n",
       "min          1.000000    0.000000  \n",
       "25%         12.000000    0.000000  \n",
       "50%         32.000000    0.000000  \n",
       "75%         55.000000    0.000000  \n",
       "max        352.000000    1.000000  "
      ]
     },
     "execution_count": 6,
     "metadata": {},
     "output_type": "execute_result"
    }
   ],
   "source": [
    "df.describe()"
   ]
  },
  {
   "cell_type": "code",
   "execution_count": 7,
   "metadata": {},
   "outputs": [
    {
     "data": {
      "text/html": [
       "<div>\n",
       "<style scoped>\n",
       "    .dataframe tbody tr th:only-of-type {\n",
       "        vertical-align: middle;\n",
       "    }\n",
       "\n",
       "    .dataframe tbody tr th {\n",
       "        vertical-align: top;\n",
       "    }\n",
       "\n",
       "    .dataframe thead th {\n",
       "        text-align: right;\n",
       "    }\n",
       "</style>\n",
       "<table border=\"1\" class=\"dataframe\">\n",
       "  <thead>\n",
       "    <tr style=\"text-align: right;\">\n",
       "      <th></th>\n",
       "      <th>Admission_type</th>\n",
       "      <th>PreExistingDisease</th>\n",
       "      <th>Gender</th>\n",
       "    </tr>\n",
       "  </thead>\n",
       "  <tbody>\n",
       "    <tr>\n",
       "      <th>count</th>\n",
       "      <td>357</td>\n",
       "      <td>357</td>\n",
       "      <td>357</td>\n",
       "    </tr>\n",
       "    <tr>\n",
       "      <th>unique</th>\n",
       "      <td>5</td>\n",
       "      <td>2</td>\n",
       "      <td>2</td>\n",
       "    </tr>\n",
       "    <tr>\n",
       "      <th>top</th>\n",
       "      <td>Urgent</td>\n",
       "      <td>N</td>\n",
       "      <td>F</td>\n",
       "    </tr>\n",
       "    <tr>\n",
       "      <th>freq</th>\n",
       "      <td>131</td>\n",
       "      <td>228</td>\n",
       "      <td>186</td>\n",
       "    </tr>\n",
       "  </tbody>\n",
       "</table>\n",
       "</div>"
      ],
      "text/plain": [
       "       Admission_type PreExistingDisease Gender\n",
       "count             357                357    357\n",
       "unique              5                  2      2\n",
       "top            Urgent                  N      F\n",
       "freq              131                228    186"
      ]
     },
     "execution_count": 7,
     "metadata": {},
     "output_type": "execute_result"
    }
   ],
   "source": [
    "df.describe(include='object')"
   ]
  },
  {
   "cell_type": "code",
   "execution_count": 8,
   "metadata": {},
   "outputs": [],
   "source": [
    "X=df.iloc[:,1:9]\n",
    "y=df.iloc[:,9]"
   ]
  },
  {
   "cell_type": "code",
   "execution_count": 9,
   "metadata": {},
   "outputs": [
    {
     "data": {
      "text/html": [
       "<div>\n",
       "<style scoped>\n",
       "    .dataframe tbody tr th:only-of-type {\n",
       "        vertical-align: middle;\n",
       "    }\n",
       "\n",
       "    .dataframe tbody tr th {\n",
       "        vertical-align: top;\n",
       "    }\n",
       "\n",
       "    .dataframe thead th {\n",
       "        text-align: right;\n",
       "    }\n",
       "</style>\n",
       "<table border=\"1\" class=\"dataframe\">\n",
       "  <thead>\n",
       "    <tr style=\"text-align: right;\">\n",
       "      <th></th>\n",
       "      <th>Age</th>\n",
       "      <th>Admission_type</th>\n",
       "      <th>PreExistingDisease</th>\n",
       "      <th>PreviousSurgery</th>\n",
       "      <th>Gender</th>\n",
       "      <th>Smoker</th>\n",
       "      <th>Homeless</th>\n",
       "      <th>DaysinHospital</th>\n",
       "    </tr>\n",
       "  </thead>\n",
       "  <tbody>\n",
       "    <tr>\n",
       "      <th>0</th>\n",
       "      <td>33</td>\n",
       "      <td>Urgent</td>\n",
       "      <td>Y</td>\n",
       "      <td>0</td>\n",
       "      <td>M</td>\n",
       "      <td>1</td>\n",
       "      <td>0</td>\n",
       "      <td>1</td>\n",
       "    </tr>\n",
       "    <tr>\n",
       "      <th>1</th>\n",
       "      <td>34</td>\n",
       "      <td>Emergency</td>\n",
       "      <td>N</td>\n",
       "      <td>0</td>\n",
       "      <td>M</td>\n",
       "      <td>1</td>\n",
       "      <td>0</td>\n",
       "      <td>22</td>\n",
       "    </tr>\n",
       "    <tr>\n",
       "      <th>2</th>\n",
       "      <td>88</td>\n",
       "      <td>Trauma</td>\n",
       "      <td>Y</td>\n",
       "      <td>1</td>\n",
       "      <td>M</td>\n",
       "      <td>1</td>\n",
       "      <td>1</td>\n",
       "      <td>100</td>\n",
       "    </tr>\n",
       "    <tr>\n",
       "      <th>3</th>\n",
       "      <td>56</td>\n",
       "      <td>Elective</td>\n",
       "      <td>Y</td>\n",
       "      <td>0</td>\n",
       "      <td>M</td>\n",
       "      <td>1</td>\n",
       "      <td>0</td>\n",
       "      <td>2</td>\n",
       "    </tr>\n",
       "    <tr>\n",
       "      <th>4</th>\n",
       "      <td>45</td>\n",
       "      <td>Trauma</td>\n",
       "      <td>Y</td>\n",
       "      <td>0</td>\n",
       "      <td>M</td>\n",
       "      <td>1</td>\n",
       "      <td>0</td>\n",
       "      <td>34</td>\n",
       "    </tr>\n",
       "  </tbody>\n",
       "</table>\n",
       "</div>"
      ],
      "text/plain": [
       "   Age Admission_type PreExistingDisease  PreviousSurgery Gender  Smoker  \\\n",
       "0   33         Urgent                  Y                0      M       1   \n",
       "1   34      Emergency                  N                0      M       1   \n",
       "2   88         Trauma                  Y                1      M       1   \n",
       "3   56       Elective                  Y                0      M       1   \n",
       "4   45         Trauma                  Y                0      M       1   \n",
       "\n",
       "   Homeless  DaysinHospital  \n",
       "0         0               1  \n",
       "1         0              22  \n",
       "2         1             100  \n",
       "3         0               2  \n",
       "4         0              34  "
      ]
     },
     "execution_count": 9,
     "metadata": {},
     "output_type": "execute_result"
    }
   ],
   "source": [
    "X.head()"
   ]
  },
  {
   "cell_type": "code",
   "execution_count": 10,
   "metadata": {},
   "outputs": [
    {
     "data": {
      "text/plain": [
       "pandas.core.frame.DataFrame"
      ]
     },
     "execution_count": 10,
     "metadata": {},
     "output_type": "execute_result"
    }
   ],
   "source": [
    "type(X)"
   ]
  },
  {
   "cell_type": "code",
   "execution_count": 11,
   "metadata": {},
   "outputs": [
    {
     "data": {
      "text/plain": [
       "0    0\n",
       "1    0\n",
       "2    1\n",
       "3    0\n",
       "4    0\n",
       "Name: Readmitted, dtype: int64"
      ]
     },
     "execution_count": 11,
     "metadata": {},
     "output_type": "execute_result"
    }
   ],
   "source": [
    "y.head()"
   ]
  },
  {
   "cell_type": "code",
   "execution_count": 12,
   "metadata": {},
   "outputs": [
    {
     "data": {
      "text/plain": [
       "pandas.core.series.Series"
      ]
     },
     "execution_count": 12,
     "metadata": {},
     "output_type": "execute_result"
    }
   ],
   "source": [
    "type(y)"
   ]
  },
  {
   "cell_type": "code",
   "execution_count": 13,
   "metadata": {},
   "outputs": [
    {
     "data": {
      "text/plain": [
       "(357, 8)"
      ]
     },
     "execution_count": 13,
     "metadata": {},
     "output_type": "execute_result"
    }
   ],
   "source": [
    "X.shape"
   ]
  },
  {
   "cell_type": "code",
   "execution_count": 14,
   "metadata": {},
   "outputs": [
    {
     "data": {
      "text/plain": [
       "357"
      ]
     },
     "execution_count": 14,
     "metadata": {},
     "output_type": "execute_result"
    }
   ],
   "source": [
    "len(X)"
   ]
  },
  {
   "cell_type": "code",
   "execution_count": 15,
   "metadata": {},
   "outputs": [],
   "source": [
    "##New Admission type\n",
    "A_type=pd.get_dummies(X.iloc[:,1],drop_first=True,prefix='Atype')\n",
    "\n",
    "##New Gender \n",
    "New_gender=pd.get_dummies(X.iloc[:,4],drop_first=True,prefix='Gender')\n",
    "\n",
    "##New Pre Existing Disease Variable\n",
    "Pre_exdis=pd.get_dummies(X.iloc[:,2],drop_first=True,prefix='PreExistDis')\n",
    "\n",
    "## Drop the original categorical columns\n",
    "X.drop(['Admission_type','PreExistingDisease','Gender'],axis=1,inplace=True)\n",
    "\n",
    "##Concat the new transformed data to X dataframe\n",
    "X=pd.concat([X,A_type,New_gender,Pre_exdis],axis=1)"
   ]
  },
  {
   "cell_type": "code",
   "execution_count": 16,
   "metadata": {},
   "outputs": [],
   "source": [
    "A_type = pd.get_dummies(X.iloc[:,1],drop_first=True,prefix='Atype')"
   ]
  },
  {
   "cell_type": "code",
   "execution_count": 17,
   "metadata": {},
   "outputs": [
    {
     "data": {
      "text/plain": [
       "0       Urgent\n",
       "1    Emergency\n",
       "2       Trauma\n",
       "3     Elective\n",
       "4       Trauma\n",
       "5     Elective\n",
       "6     Elective\n",
       "7     Elective\n",
       "8       Trauma\n",
       "9    Emergency\n",
       "Name: Admission_type, dtype: object"
      ]
     },
     "execution_count": 17,
     "metadata": {},
     "output_type": "execute_result"
    }
   ],
   "source": [
    "df.Admission_type.head(10)"
   ]
  },
  {
   "cell_type": "code",
   "execution_count": 18,
   "metadata": {},
   "outputs": [
    {
     "data": {
      "text/html": [
       "<div>\n",
       "<style scoped>\n",
       "    .dataframe tbody tr th:only-of-type {\n",
       "        vertical-align: middle;\n",
       "    }\n",
       "\n",
       "    .dataframe tbody tr th {\n",
       "        vertical-align: top;\n",
       "    }\n",
       "\n",
       "    .dataframe thead th {\n",
       "        text-align: right;\n",
       "    }\n",
       "</style>\n",
       "<table border=\"1\" class=\"dataframe\">\n",
       "  <thead>\n",
       "    <tr style=\"text-align: right;\">\n",
       "      <th></th>\n",
       "      <th>Atype_1</th>\n",
       "    </tr>\n",
       "  </thead>\n",
       "  <tbody>\n",
       "    <tr>\n",
       "      <th>0</th>\n",
       "      <td>0</td>\n",
       "    </tr>\n",
       "    <tr>\n",
       "      <th>1</th>\n",
       "      <td>0</td>\n",
       "    </tr>\n",
       "    <tr>\n",
       "      <th>2</th>\n",
       "      <td>1</td>\n",
       "    </tr>\n",
       "    <tr>\n",
       "      <th>3</th>\n",
       "      <td>0</td>\n",
       "    </tr>\n",
       "    <tr>\n",
       "      <th>4</th>\n",
       "      <td>0</td>\n",
       "    </tr>\n",
       "    <tr>\n",
       "      <th>5</th>\n",
       "      <td>0</td>\n",
       "    </tr>\n",
       "    <tr>\n",
       "      <th>6</th>\n",
       "      <td>0</td>\n",
       "    </tr>\n",
       "    <tr>\n",
       "      <th>7</th>\n",
       "      <td>0</td>\n",
       "    </tr>\n",
       "    <tr>\n",
       "      <th>8</th>\n",
       "      <td>0</td>\n",
       "    </tr>\n",
       "    <tr>\n",
       "      <th>9</th>\n",
       "      <td>0</td>\n",
       "    </tr>\n",
       "  </tbody>\n",
       "</table>\n",
       "</div>"
      ],
      "text/plain": [
       "   Atype_1\n",
       "0        0\n",
       "1        0\n",
       "2        1\n",
       "3        0\n",
       "4        0\n",
       "5        0\n",
       "6        0\n",
       "7        0\n",
       "8        0\n",
       "9        0"
      ]
     },
     "execution_count": 18,
     "metadata": {},
     "output_type": "execute_result"
    }
   ],
   "source": [
    "A_type.head(10)"
   ]
  },
  {
   "cell_type": "code",
   "execution_count": null,
   "metadata": {},
   "outputs": [],
   "source": [
    "New_gender=pd.get_dummies(X.iloc[:,4],drop_first=True,prefix='Gender')"
   ]
  },
  {
   "cell_type": "code",
   "execution_count": null,
   "metadata": {},
   "outputs": [],
   "source": [
    "Pre_exdis=pd.get_dummies(X.iloc[:,2],drop_first=True,prefix='PreExistDis')\n"
   ]
  },
  {
   "cell_type": "code",
   "execution_count": null,
   "metadata": {},
   "outputs": [],
   "source": []
  },
  {
   "cell_type": "code",
   "execution_count": null,
   "metadata": {},
   "outputs": [],
   "source": [
    "X.drop(['Admission_type','PreExistingDisease','Gender'],axis=1,inplace=True)\n"
   ]
  },
  {
   "cell_type": "code",
   "execution_count": null,
   "metadata": {},
   "outputs": [],
   "source": [
    "X.head()"
   ]
  },
  {
   "cell_type": "code",
   "execution_count": null,
   "metadata": {},
   "outputs": [],
   "source": [
    "X.drop(['Admission_type','PreExistingDisease','Gender'],axis=1,inplace=True)"
   ]
  },
  {
   "cell_type": "code",
   "execution_count": null,
   "metadata": {},
   "outputs": [],
   "source": [
    "X.head()"
   ]
  },
  {
   "cell_type": "code",
   "execution_count": null,
   "metadata": {},
   "outputs": [],
   "source": [
    "X=pd.concat([X,A_type,New_gender,Pre_exdis],axis=1)"
   ]
  },
  {
   "cell_type": "code",
   "execution_count": null,
   "metadata": {},
   "outputs": [],
   "source": [
    "X.head()"
   ]
  },
  {
   "cell_type": "code",
   "execution_count": 19,
   "metadata": {},
   "outputs": [],
   "source": [
    "from sklearn.model_selection import train_test_split\n",
    "X_train,X_test,y_train,y_test=train_test_split(X,y,test_size=0.33, random_state=42)"
   ]
  },
  {
   "cell_type": "code",
   "execution_count": 22,
   "metadata": {},
   "outputs": [
    {
     "data": {
      "text/plain": [
       "357"
      ]
     },
     "execution_count": 22,
     "metadata": {},
     "output_type": "execute_result"
    }
   ],
   "source": [
    "len(X)"
   ]
  },
  {
   "cell_type": "code",
   "execution_count": 23,
   "metadata": {},
   "outputs": [
    {
     "data": {
      "text/plain": [
       "239"
      ]
     },
     "execution_count": 23,
     "metadata": {},
     "output_type": "execute_result"
    }
   ],
   "source": [
    "len(X_train)"
   ]
  },
  {
   "cell_type": "code",
   "execution_count": 24,
   "metadata": {},
   "outputs": [
    {
     "data": {
      "text/plain": [
       "118"
      ]
     },
     "execution_count": 24,
     "metadata": {},
     "output_type": "execute_result"
    }
   ],
   "source": [
    "len(X_test)"
   ]
  },
  {
   "cell_type": "code",
   "execution_count": 25,
   "metadata": {},
   "outputs": [],
   "source": [
    "from sklearn.preprocessing import StandardScaler\n",
    "sc=StandardScaler()\n",
    "\n",
    "X_train=sc.fit_transform(X_train)\n",
    "X_train=pd.DataFrame(X_train,columns=X_test.columns)\n",
    "\n",
    "X_test=sc.transform(X_test)\n",
    "X_test=pd.DataFrame(X_test,columns=X_train.columns)"
   ]
  },
  {
   "cell_type": "code",
   "execution_count": 26,
   "metadata": {},
   "outputs": [
    {
     "data": {
      "text/html": [
       "<div>\n",
       "<style scoped>\n",
       "    .dataframe tbody tr th:only-of-type {\n",
       "        vertical-align: middle;\n",
       "    }\n",
       "\n",
       "    .dataframe tbody tr th {\n",
       "        vertical-align: top;\n",
       "    }\n",
       "\n",
       "    .dataframe thead th {\n",
       "        text-align: right;\n",
       "    }\n",
       "</style>\n",
       "<table border=\"1\" class=\"dataframe\">\n",
       "  <thead>\n",
       "    <tr style=\"text-align: right;\">\n",
       "      <th></th>\n",
       "      <th>Age</th>\n",
       "      <th>PreviousSurgery</th>\n",
       "      <th>Smoker</th>\n",
       "      <th>Homeless</th>\n",
       "      <th>DaysinHospital</th>\n",
       "      <th>Atype_Emergency</th>\n",
       "      <th>Atype_Newborn</th>\n",
       "      <th>Atype_Trauma</th>\n",
       "      <th>Atype_Urgent</th>\n",
       "      <th>Gender_M</th>\n",
       "      <th>PreExistDis_Y</th>\n",
       "    </tr>\n",
       "  </thead>\n",
       "  <tbody>\n",
       "    <tr>\n",
       "      <th>0</th>\n",
       "      <td>0.669196</td>\n",
       "      <td>-0.669690</td>\n",
       "      <td>0.848189</td>\n",
       "      <td>1.241996</td>\n",
       "      <td>-0.011330</td>\n",
       "      <td>-0.334108</td>\n",
       "      <td>-0.310371</td>\n",
       "      <td>1.850926</td>\n",
       "      <td>-0.770281</td>\n",
       "      <td>-0.971128</td>\n",
       "      <td>-0.682831</td>\n",
       "    </tr>\n",
       "    <tr>\n",
       "      <th>1</th>\n",
       "      <td>-1.084286</td>\n",
       "      <td>1.493228</td>\n",
       "      <td>-1.178983</td>\n",
       "      <td>1.241996</td>\n",
       "      <td>-0.856314</td>\n",
       "      <td>-0.334108</td>\n",
       "      <td>-0.310371</td>\n",
       "      <td>-0.540270</td>\n",
       "      <td>1.298227</td>\n",
       "      <td>1.029730</td>\n",
       "      <td>1.464492</td>\n",
       "    </tr>\n",
       "    <tr>\n",
       "      <th>2</th>\n",
       "      <td>-0.713357</td>\n",
       "      <td>1.493228</td>\n",
       "      <td>0.848189</td>\n",
       "      <td>1.241996</td>\n",
       "      <td>-0.817906</td>\n",
       "      <td>-0.334108</td>\n",
       "      <td>-0.310371</td>\n",
       "      <td>-0.540270</td>\n",
       "      <td>1.298227</td>\n",
       "      <td>1.029730</td>\n",
       "      <td>-0.682831</td>\n",
       "    </tr>\n",
       "    <tr>\n",
       "      <th>3</th>\n",
       "      <td>1.579657</td>\n",
       "      <td>-0.669690</td>\n",
       "      <td>0.848189</td>\n",
       "      <td>-0.805156</td>\n",
       "      <td>-0.741089</td>\n",
       "      <td>-0.334108</td>\n",
       "      <td>-0.310371</td>\n",
       "      <td>-0.540270</td>\n",
       "      <td>-0.770281</td>\n",
       "      <td>-0.971128</td>\n",
       "      <td>-0.682831</td>\n",
       "    </tr>\n",
       "    <tr>\n",
       "      <th>4</th>\n",
       "      <td>-1.488935</td>\n",
       "      <td>-0.669690</td>\n",
       "      <td>-1.178983</td>\n",
       "      <td>-0.805156</td>\n",
       "      <td>-0.741089</td>\n",
       "      <td>-0.334108</td>\n",
       "      <td>3.221949</td>\n",
       "      <td>-0.540270</td>\n",
       "      <td>-0.770281</td>\n",
       "      <td>-0.971128</td>\n",
       "      <td>-0.682831</td>\n",
       "    </tr>\n",
       "    <tr>\n",
       "      <th>...</th>\n",
       "      <td>...</td>\n",
       "      <td>...</td>\n",
       "      <td>...</td>\n",
       "      <td>...</td>\n",
       "      <td>...</td>\n",
       "      <td>...</td>\n",
       "      <td>...</td>\n",
       "      <td>...</td>\n",
       "      <td>...</td>\n",
       "      <td>...</td>\n",
       "      <td>...</td>\n",
       "    </tr>\n",
       "    <tr>\n",
       "      <th>234</th>\n",
       "      <td>-0.005220</td>\n",
       "      <td>-0.669690</td>\n",
       "      <td>-1.178983</td>\n",
       "      <td>-0.805156</td>\n",
       "      <td>-0.645068</td>\n",
       "      <td>-0.334108</td>\n",
       "      <td>-0.310371</td>\n",
       "      <td>-0.540270</td>\n",
       "      <td>-0.770281</td>\n",
       "      <td>-0.971128</td>\n",
       "      <td>-0.682831</td>\n",
       "    </tr>\n",
       "    <tr>\n",
       "      <th>235</th>\n",
       "      <td>0.466871</td>\n",
       "      <td>-0.669690</td>\n",
       "      <td>-1.178983</td>\n",
       "      <td>1.241996</td>\n",
       "      <td>-0.030534</td>\n",
       "      <td>-0.334108</td>\n",
       "      <td>-0.310371</td>\n",
       "      <td>-0.540270</td>\n",
       "      <td>1.298227</td>\n",
       "      <td>-0.971128</td>\n",
       "      <td>-0.682831</td>\n",
       "    </tr>\n",
       "    <tr>\n",
       "      <th>236</th>\n",
       "      <td>-1.488935</td>\n",
       "      <td>-0.669690</td>\n",
       "      <td>-1.178983</td>\n",
       "      <td>1.241996</td>\n",
       "      <td>-0.395414</td>\n",
       "      <td>-0.334108</td>\n",
       "      <td>3.221949</td>\n",
       "      <td>-0.540270</td>\n",
       "      <td>-0.770281</td>\n",
       "      <td>1.029730</td>\n",
       "      <td>-0.682831</td>\n",
       "    </tr>\n",
       "    <tr>\n",
       "      <th>237</th>\n",
       "      <td>-0.713357</td>\n",
       "      <td>-0.669690</td>\n",
       "      <td>0.848189</td>\n",
       "      <td>1.241996</td>\n",
       "      <td>-0.837110</td>\n",
       "      <td>-0.334108</td>\n",
       "      <td>-0.310371</td>\n",
       "      <td>-0.540270</td>\n",
       "      <td>-0.770281</td>\n",
       "      <td>-0.971128</td>\n",
       "      <td>-0.682831</td>\n",
       "    </tr>\n",
       "    <tr>\n",
       "      <th>238</th>\n",
       "      <td>1.478495</td>\n",
       "      <td>-0.669690</td>\n",
       "      <td>0.848189</td>\n",
       "      <td>1.241996</td>\n",
       "      <td>-0.817906</td>\n",
       "      <td>-0.334108</td>\n",
       "      <td>-0.310371</td>\n",
       "      <td>1.850926</td>\n",
       "      <td>-0.770281</td>\n",
       "      <td>1.029730</td>\n",
       "      <td>-0.682831</td>\n",
       "    </tr>\n",
       "  </tbody>\n",
       "</table>\n",
       "<p>239 rows × 11 columns</p>\n",
       "</div>"
      ],
      "text/plain": [
       "          Age  PreviousSurgery    Smoker  Homeless  DaysinHospital  \\\n",
       "0    0.669196        -0.669690  0.848189  1.241996       -0.011330   \n",
       "1   -1.084286         1.493228 -1.178983  1.241996       -0.856314   \n",
       "2   -0.713357         1.493228  0.848189  1.241996       -0.817906   \n",
       "3    1.579657        -0.669690  0.848189 -0.805156       -0.741089   \n",
       "4   -1.488935        -0.669690 -1.178983 -0.805156       -0.741089   \n",
       "..        ...              ...       ...       ...             ...   \n",
       "234 -0.005220        -0.669690 -1.178983 -0.805156       -0.645068   \n",
       "235  0.466871        -0.669690 -1.178983  1.241996       -0.030534   \n",
       "236 -1.488935        -0.669690 -1.178983  1.241996       -0.395414   \n",
       "237 -0.713357        -0.669690  0.848189  1.241996       -0.837110   \n",
       "238  1.478495        -0.669690  0.848189  1.241996       -0.817906   \n",
       "\n",
       "     Atype_Emergency  Atype_Newborn  Atype_Trauma  Atype_Urgent  Gender_M  \\\n",
       "0          -0.334108      -0.310371      1.850926     -0.770281 -0.971128   \n",
       "1          -0.334108      -0.310371     -0.540270      1.298227  1.029730   \n",
       "2          -0.334108      -0.310371     -0.540270      1.298227  1.029730   \n",
       "3          -0.334108      -0.310371     -0.540270     -0.770281 -0.971128   \n",
       "4          -0.334108       3.221949     -0.540270     -0.770281 -0.971128   \n",
       "..               ...            ...           ...           ...       ...   \n",
       "234        -0.334108      -0.310371     -0.540270     -0.770281 -0.971128   \n",
       "235        -0.334108      -0.310371     -0.540270      1.298227 -0.971128   \n",
       "236        -0.334108       3.221949     -0.540270     -0.770281  1.029730   \n",
       "237        -0.334108      -0.310371     -0.540270     -0.770281 -0.971128   \n",
       "238        -0.334108      -0.310371      1.850926     -0.770281  1.029730   \n",
       "\n",
       "     PreExistDis_Y  \n",
       "0        -0.682831  \n",
       "1         1.464492  \n",
       "2        -0.682831  \n",
       "3        -0.682831  \n",
       "4        -0.682831  \n",
       "..             ...  \n",
       "234      -0.682831  \n",
       "235      -0.682831  \n",
       "236      -0.682831  \n",
       "237      -0.682831  \n",
       "238      -0.682831  \n",
       "\n",
       "[239 rows x 11 columns]"
      ]
     },
     "execution_count": 26,
     "metadata": {},
     "output_type": "execute_result"
    }
   ],
   "source": [
    "X_train"
   ]
  },
  {
   "cell_type": "code",
   "execution_count": 27,
   "metadata": {},
   "outputs": [
    {
     "data": {
      "text/html": [
       "<div>\n",
       "<style scoped>\n",
       "    .dataframe tbody tr th:only-of-type {\n",
       "        vertical-align: middle;\n",
       "    }\n",
       "\n",
       "    .dataframe tbody tr th {\n",
       "        vertical-align: top;\n",
       "    }\n",
       "\n",
       "    .dataframe thead th {\n",
       "        text-align: right;\n",
       "    }\n",
       "</style>\n",
       "<table border=\"1\" class=\"dataframe\">\n",
       "  <thead>\n",
       "    <tr style=\"text-align: right;\">\n",
       "      <th></th>\n",
       "      <th>Age</th>\n",
       "      <th>PreviousSurgery</th>\n",
       "      <th>Smoker</th>\n",
       "      <th>Homeless</th>\n",
       "      <th>DaysinHospital</th>\n",
       "      <th>Atype_Emergency</th>\n",
       "      <th>Atype_Newborn</th>\n",
       "      <th>Atype_Trauma</th>\n",
       "      <th>Atype_Urgent</th>\n",
       "      <th>Gender_M</th>\n",
       "      <th>PreExistDis_Y</th>\n",
       "    </tr>\n",
       "  </thead>\n",
       "  <tbody>\n",
       "    <tr>\n",
       "      <th>0</th>\n",
       "      <td>-0.376149</td>\n",
       "      <td>-0.669690</td>\n",
       "      <td>0.848189</td>\n",
       "      <td>-0.805156</td>\n",
       "      <td>-0.049738</td>\n",
       "      <td>-0.334108</td>\n",
       "      <td>-0.310371</td>\n",
       "      <td>-0.540270</td>\n",
       "      <td>1.298227</td>\n",
       "      <td>-0.971128</td>\n",
       "      <td>1.464492</td>\n",
       "    </tr>\n",
       "    <tr>\n",
       "      <th>1</th>\n",
       "      <td>-1.084286</td>\n",
       "      <td>-0.669690</td>\n",
       "      <td>-1.178983</td>\n",
       "      <td>-0.805156</td>\n",
       "      <td>-0.817906</td>\n",
       "      <td>-0.334108</td>\n",
       "      <td>-0.310371</td>\n",
       "      <td>-0.540270</td>\n",
       "      <td>-0.770281</td>\n",
       "      <td>1.029730</td>\n",
       "      <td>-0.682831</td>\n",
       "    </tr>\n",
       "    <tr>\n",
       "      <th>2</th>\n",
       "      <td>0.298267</td>\n",
       "      <td>-0.669690</td>\n",
       "      <td>-1.178983</td>\n",
       "      <td>1.241996</td>\n",
       "      <td>-0.433822</td>\n",
       "      <td>-0.334108</td>\n",
       "      <td>-0.310371</td>\n",
       "      <td>1.850926</td>\n",
       "      <td>-0.770281</td>\n",
       "      <td>1.029730</td>\n",
       "      <td>1.464492</td>\n",
       "    </tr>\n",
       "    <tr>\n",
       "      <th>3</th>\n",
       "      <td>-1.084286</td>\n",
       "      <td>1.493228</td>\n",
       "      <td>-1.178983</td>\n",
       "      <td>-0.805156</td>\n",
       "      <td>-0.376209</td>\n",
       "      <td>-0.334108</td>\n",
       "      <td>-0.310371</td>\n",
       "      <td>1.850926</td>\n",
       "      <td>-0.770281</td>\n",
       "      <td>1.029730</td>\n",
       "      <td>1.464492</td>\n",
       "    </tr>\n",
       "    <tr>\n",
       "      <th>4</th>\n",
       "      <td>-1.421494</td>\n",
       "      <td>-0.669690</td>\n",
       "      <td>0.848189</td>\n",
       "      <td>-0.805156</td>\n",
       "      <td>0.142304</td>\n",
       "      <td>-0.334108</td>\n",
       "      <td>-0.310371</td>\n",
       "      <td>-0.540270</td>\n",
       "      <td>-0.770281</td>\n",
       "      <td>1.029730</td>\n",
       "      <td>-0.682831</td>\n",
       "    </tr>\n",
       "    <tr>\n",
       "      <th>...</th>\n",
       "      <td>...</td>\n",
       "      <td>...</td>\n",
       "      <td>...</td>\n",
       "      <td>...</td>\n",
       "      <td>...</td>\n",
       "      <td>...</td>\n",
       "      <td>...</td>\n",
       "      <td>...</td>\n",
       "      <td>...</td>\n",
       "      <td>...</td>\n",
       "      <td>...</td>\n",
       "    </tr>\n",
       "    <tr>\n",
       "      <th>113</th>\n",
       "      <td>-1.016844</td>\n",
       "      <td>1.493228</td>\n",
       "      <td>-1.178983</td>\n",
       "      <td>1.241996</td>\n",
       "      <td>-0.433822</td>\n",
       "      <td>-0.334108</td>\n",
       "      <td>-0.310371</td>\n",
       "      <td>-0.540270</td>\n",
       "      <td>1.298227</td>\n",
       "      <td>1.029730</td>\n",
       "      <td>-0.682831</td>\n",
       "    </tr>\n",
       "    <tr>\n",
       "      <th>114</th>\n",
       "      <td>0.129663</td>\n",
       "      <td>1.493228</td>\n",
       "      <td>0.848189</td>\n",
       "      <td>-0.805156</td>\n",
       "      <td>-0.741089</td>\n",
       "      <td>2.993047</td>\n",
       "      <td>-0.310371</td>\n",
       "      <td>-0.540270</td>\n",
       "      <td>-0.770281</td>\n",
       "      <td>1.029730</td>\n",
       "      <td>-0.682831</td>\n",
       "    </tr>\n",
       "    <tr>\n",
       "      <th>115</th>\n",
       "      <td>-0.713357</td>\n",
       "      <td>1.493228</td>\n",
       "      <td>0.848189</td>\n",
       "      <td>-0.805156</td>\n",
       "      <td>-0.472230</td>\n",
       "      <td>-0.334108</td>\n",
       "      <td>-0.310371</td>\n",
       "      <td>1.850926</td>\n",
       "      <td>-0.770281</td>\n",
       "      <td>-0.971128</td>\n",
       "      <td>1.464492</td>\n",
       "    </tr>\n",
       "    <tr>\n",
       "      <th>116</th>\n",
       "      <td>-1.320331</td>\n",
       "      <td>1.493228</td>\n",
       "      <td>0.848189</td>\n",
       "      <td>-0.805156</td>\n",
       "      <td>-0.049738</td>\n",
       "      <td>2.993047</td>\n",
       "      <td>-0.310371</td>\n",
       "      <td>-0.540270</td>\n",
       "      <td>-0.770281</td>\n",
       "      <td>1.029730</td>\n",
       "      <td>1.464492</td>\n",
       "    </tr>\n",
       "    <tr>\n",
       "      <th>117</th>\n",
       "      <td>1.411053</td>\n",
       "      <td>1.493228</td>\n",
       "      <td>0.848189</td>\n",
       "      <td>1.241996</td>\n",
       "      <td>1.717048</td>\n",
       "      <td>-0.334108</td>\n",
       "      <td>-0.310371</td>\n",
       "      <td>1.850926</td>\n",
       "      <td>-0.770281</td>\n",
       "      <td>-0.971128</td>\n",
       "      <td>1.464492</td>\n",
       "    </tr>\n",
       "  </tbody>\n",
       "</table>\n",
       "<p>118 rows × 11 columns</p>\n",
       "</div>"
      ],
      "text/plain": [
       "          Age  PreviousSurgery    Smoker  Homeless  DaysinHospital  \\\n",
       "0   -0.376149        -0.669690  0.848189 -0.805156       -0.049738   \n",
       "1   -1.084286        -0.669690 -1.178983 -0.805156       -0.817906   \n",
       "2    0.298267        -0.669690 -1.178983  1.241996       -0.433822   \n",
       "3   -1.084286         1.493228 -1.178983 -0.805156       -0.376209   \n",
       "4   -1.421494        -0.669690  0.848189 -0.805156        0.142304   \n",
       "..        ...              ...       ...       ...             ...   \n",
       "113 -1.016844         1.493228 -1.178983  1.241996       -0.433822   \n",
       "114  0.129663         1.493228  0.848189 -0.805156       -0.741089   \n",
       "115 -0.713357         1.493228  0.848189 -0.805156       -0.472230   \n",
       "116 -1.320331         1.493228  0.848189 -0.805156       -0.049738   \n",
       "117  1.411053         1.493228  0.848189  1.241996        1.717048   \n",
       "\n",
       "     Atype_Emergency  Atype_Newborn  Atype_Trauma  Atype_Urgent  Gender_M  \\\n",
       "0          -0.334108      -0.310371     -0.540270      1.298227 -0.971128   \n",
       "1          -0.334108      -0.310371     -0.540270     -0.770281  1.029730   \n",
       "2          -0.334108      -0.310371      1.850926     -0.770281  1.029730   \n",
       "3          -0.334108      -0.310371      1.850926     -0.770281  1.029730   \n",
       "4          -0.334108      -0.310371     -0.540270     -0.770281  1.029730   \n",
       "..               ...            ...           ...           ...       ...   \n",
       "113        -0.334108      -0.310371     -0.540270      1.298227  1.029730   \n",
       "114         2.993047      -0.310371     -0.540270     -0.770281  1.029730   \n",
       "115        -0.334108      -0.310371      1.850926     -0.770281 -0.971128   \n",
       "116         2.993047      -0.310371     -0.540270     -0.770281  1.029730   \n",
       "117        -0.334108      -0.310371      1.850926     -0.770281 -0.971128   \n",
       "\n",
       "     PreExistDis_Y  \n",
       "0         1.464492  \n",
       "1        -0.682831  \n",
       "2         1.464492  \n",
       "3         1.464492  \n",
       "4        -0.682831  \n",
       "..             ...  \n",
       "113      -0.682831  \n",
       "114      -0.682831  \n",
       "115       1.464492  \n",
       "116       1.464492  \n",
       "117       1.464492  \n",
       "\n",
       "[118 rows x 11 columns]"
      ]
     },
     "execution_count": 27,
     "metadata": {},
     "output_type": "execute_result"
    }
   ],
   "source": [
    "X_test"
   ]
  },
  {
   "cell_type": "code",
   "execution_count": 28,
   "metadata": {},
   "outputs": [
    {
     "data": {
      "text/plain": [
       "222    0\n",
       "42     0\n",
       "291    0\n",
       "300    0\n",
       "56     0\n",
       "      ..\n",
       "284    0\n",
       "79     0\n",
       "295    0\n",
       "18     0\n",
       "211    1\n",
       "Name: Readmitted, Length: 118, dtype: int64"
      ]
     },
     "execution_count": 28,
     "metadata": {},
     "output_type": "execute_result"
    }
   ],
   "source": [
    "y_test"
   ]
  },
  {
   "cell_type": "code",
   "execution_count": 29,
   "metadata": {},
   "outputs": [
    {
     "data": {
      "text/plain": [
       "LogisticRegression()"
      ]
     },
     "execution_count": 29,
     "metadata": {},
     "output_type": "execute_result"
    }
   ],
   "source": [
    "from sklearn.linear_model import LogisticRegression\n",
    "model= LogisticRegression()\n",
    "model.fit(X_train,y_train)"
   ]
  },
  {
   "cell_type": "code",
   "execution_count": 30,
   "metadata": {},
   "outputs": [],
   "source": [
    "y_pred=model.predict(X_test)"
   ]
  },
  {
   "cell_type": "code",
   "execution_count": 31,
   "metadata": {},
   "outputs": [
    {
     "data": {
      "text/plain": [
       "array([0, 0, 0, 0, 0, 0, 0, 0, 0, 0, 0, 0, 1, 0, 0, 0, 0, 0, 0, 0, 0, 0,\n",
       "       1, 0, 0, 0, 0, 0, 0, 0, 0, 0, 0, 0, 0, 0, 0, 0, 0, 0, 0, 0, 0, 0,\n",
       "       0, 1, 0, 0, 0, 0, 0, 1, 0, 0, 0, 0, 0, 0, 0, 1, 0, 0, 1, 0, 0, 0,\n",
       "       0, 1, 0, 0, 0, 1, 0, 0, 0, 0, 0, 0, 0, 0, 0, 0, 0, 0, 0, 0, 0, 0,\n",
       "       0, 0, 0, 0, 0, 0, 0, 0, 0, 0, 0, 0, 0, 0, 0, 0, 0, 0, 0, 1, 0, 0,\n",
       "       0, 0, 0, 0, 0, 0, 0, 1], dtype=int64)"
      ]
     },
     "execution_count": 31,
     "metadata": {},
     "output_type": "execute_result"
    }
   ],
   "source": [
    "y_pred"
   ]
  },
  {
   "cell_type": "code",
   "execution_count": 32,
   "metadata": {},
   "outputs": [
    {
     "data": {
      "text/plain": [
       "0.9067796610169492"
      ]
     },
     "execution_count": 32,
     "metadata": {},
     "output_type": "execute_result"
    }
   ],
   "source": [
    "from sklearn.metrics import accuracy_score, classification_report\n",
    "score=accuracy_score(y_pred,y_test)\n",
    "score"
   ]
  },
  {
   "cell_type": "code",
   "execution_count": null,
   "metadata": {},
   "outputs": [],
   "source": []
  }
 ],
 "metadata": {
  "kernelspec": {
   "display_name": "Python 3",
   "language": "python",
   "name": "python3"
  },
  "language_info": {
   "codemirror_mode": {
    "name": "ipython",
    "version": 3
   },
   "file_extension": ".py",
   "mimetype": "text/x-python",
   "name": "python",
   "nbconvert_exporter": "python",
   "pygments_lexer": "ipython3",
   "version": "3.7.6"
  }
 },
 "nbformat": 4,
 "nbformat_minor": 4
}
